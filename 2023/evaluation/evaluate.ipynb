{
 "cells": [
  {
   "cell_type": "code",
   "execution_count": 47,
   "metadata": {},
   "outputs": [],
   "source": [
    "import pandas as pd\n",
    "import json"
   ]
  },
  {
   "cell_type": "code",
   "execution_count": 48,
   "metadata": {},
   "outputs": [],
   "source": [
    "def recall(gold, pred):\n",
    "    return len(set(gold) & set(pred)) / len(gold)\n",
    "\n",
    "def precision(gold, pred):\n",
    "    return len(set(gold) & set(pred)) / len(pred)\n",
    "    \n",
    "def f1(gold, pred):\n",
    "    r = recall(gold, pred)\n",
    "    p = precision(gold, pred)\n",
    "    return 2 * r * p / (r + p)"
   ]
  },
  {
   "cell_type": "code",
   "execution_count": 54,
   "metadata": {},
   "outputs": [
    {
     "name": "stdout",
     "output_type": "stream",
     "text": [
      "(787, 11)\n",
      "(787, 2)\n",
      "(787, 13)\n",
      "(787, 13)\n",
      "(351,)\n",
      "0.6818613485280152\n",
      "0.7996201329534662\n",
      "0.7008682675349326\n"
     ]
    }
   ],
   "source": [
    "test_file = \"IQG_test.csv\"\n",
    "test_df = pd.read_csv(test_file, sep=',', header=0)\n",
    "test_df = test_df[test_df['label'] == 'O'].reset_index(drop=True)\n",
    "print(test_df.shape)\n",
    "\n",
    "generation_result_file = 'test_8.csv'\n",
    "generation_reuslt_df = pd.read_csv(generation_result_file, sep=',', header=0)\n",
    "print(generation_reuslt_df.shape)\n",
    "\n",
    "new_test_df = pd.concat([test_df, generation_reuslt_df], axis=1)\n",
    "print(new_test_df.shape)\n",
    "\n",
    "check_df = new_test_df[new_test_df['gold'] == new_test_df['additional_question']]\n",
    "print(check_df.shape)\n",
    "\n",
    "\n",
    "scene_graphs_file = \"./sceneGraphs/train_sceneGraphs.json\"\n",
    "\n",
    "with open(scene_graphs_file, 'r') as f:\n",
    "    scene_graphs = json.load(f)\n",
    "\n",
    "\n",
    "for idx, example in new_test_df.iterrows():\n",
    "    scene_graph = scene_graphs[str(example['image_id'])]\n",
    "    image_entitis = []\n",
    "    \n",
    "    \n",
    "    for obj_key, object_value in scene_graph['objects'].items():\n",
    "        image_entitis.append(object_value['name'])\n",
    "        image_entitis = list(set(image_entitis))\n",
    "    \n",
    "    gold_entities = []\n",
    "    generation_entities = []\n",
    "    for entity in image_entitis:\n",
    "        if entity in example['additional_question']:\n",
    "            gold_entities.append(entity)\n",
    "            \n",
    "        if entity in example['generation']:\n",
    "            generation_entities.append(entity)\n",
    "            \n",
    "    \n",
    "    precision_score = precision(gold_entities, generation_entities)\n",
    "    recall_score = recall(gold_entities, generation_entities)\n",
    "    f1_score = f1(gold_entities, generation_entities)\n",
    "    \n",
    "    new_test_df.loc[idx, 'precision'] = precision_score\n",
    "    new_test_df.loc[idx, 'recall'] = recall_score\n",
    "    new_test_df.loc[idx, 'f1'] = f1_score\n",
    "\n",
    "unique_additional_questions = new_test_df['generation'].unique()\n",
    "print(unique_additional_questions.shape)\n",
    "\n",
    "argmax_f1_list = []\n",
    "recall_list = []\n",
    "precision_list = []\n",
    "\n",
    "for unique_additional_question in unique_additional_questions:\n",
    "    same_additional_question_df = new_test_df[new_test_df['generation'] == unique_additional_question]\n",
    "    \n",
    "    get_argmax_idx = same_additional_question_df['f1'].argmax()\n",
    "    \n",
    "    argmax_f1_list.append(same_additional_question_df.iloc[get_argmax_idx]['f1'])\n",
    "    recall_list.append(same_additional_question_df.iloc[get_argmax_idx]['recall'])\n",
    "    precision_list.append(same_additional_question_df.iloc[get_argmax_idx]['precision'])\n",
    "    \n",
    "average_f1 = sum(argmax_f1_list) / len(argmax_f1_list)\n",
    "average_recall = sum(recall_list) / len(recall_list)\n",
    "average_precision = sum(precision_list) / len(precision_list)\n",
    "\n",
    "print(average_precision)\n",
    "print(average_recall)\n",
    "print(average_f1)\n",
    "\n",
    "    "
   ]
  },
  {
   "cell_type": "code",
   "execution_count": null,
   "metadata": {},
   "outputs": [],
   "source": []
  }
 ],
 "metadata": {
  "kernelspec": {
   "display_name": "torch2.0",
   "language": "python",
   "name": "python3"
  },
  "language_info": {
   "codemirror_mode": {
    "name": "ipython",
    "version": 3
   },
   "file_extension": ".py",
   "mimetype": "text/x-python",
   "name": "python",
   "nbconvert_exporter": "python",
   "pygments_lexer": "ipython3",
   "version": "3.9.16"
  }
 },
 "nbformat": 4,
 "nbformat_minor": 2
}
