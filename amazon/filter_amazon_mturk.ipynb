{
 "cells": [
  {
   "cell_type": "code",
   "execution_count": null,
   "metadata": {},
   "outputs": [],
   "source": [
    "import csv\n",
    "import pandas as pd\n",
    "from pprint import pprint \n",
    "from pathlib import Path"
   ]
  },
  {
   "cell_type": "code",
   "execution_count": null,
   "metadata": {},
   "outputs": [],
   "source": [
    "samples = []\n",
    "\n",
    "is_clean = False\n",
    "target_file = \"batch_results_4000.csv\"\n",
    "\n",
    "clean_csv_file = []\n",
    "same_tag_list = []\n",
    "diff_tag_list = []\n",
    "with open(target_file, 'r') as f:\n",
    "    df = pd.read_csv(f)\n",
    "    clean_df = pd.DataFrame()\n",
    "    \n",
    "    if is_clean:\n",
    "        clean_df = df\n",
    "        if 'labels' not in clean_df.keys():\n",
    "            clean_df = clean_df.rename(columns={\"effectiveness\" : \"labels\"})\n",
    "    \n",
    "    else:\n",
    "        for key in df.keys():\n",
    "            if \"Input.\" in key:\n",
    "                new_key = key.split('Input.')[-1]\n",
    "                clean_df[new_key] = df[key]\n",
    "            \n",
    "            if \"Answer\" in key:\n",
    "                clean_df[\"labels\"] = df[key] \n",
    "\n",
    "    for idx in range(len(clean_df)):\n",
    "        line = clean_df.iloc[idx]\n",
    "        \n",
    "        line_dict = line.to_dict()\n",
    "        line_dict['labels'] = 'O' if line_dict['labels']=='[{\"effectiveness\":\"yes\"}]' or line_dict['labels'] == 'O' else 'X'\n",
    "        \n",
    "        found = False\n",
    "        for sample in samples:\n",
    "            if sample['q_id'] == line_dict['q_id'] and sample['intermediate_question'] == line_dict['intermediate_question']:\n",
    "                found=True\n",
    "                if sample['labels'] == line_dict['labels']:\n",
    "                    same_tag_list.append(line_dict)\n",
    "                else:\n",
    "                    diff_tag_list.append(sample)\n",
    "                    diff_tag_list.append(line_dict)\n",
    "        if not found:\n",
    "            samples.append(line_dict)\n",
    "            \n",
    "print(len(clean_df))\n",
    "print(len(same_tag_list))\n",
    "print(len(diff_tag_list) / 2)\n",
    "\n",
    "assert len(same_tag_list) * 2 + len(diff_tag_list) == len(clean_df)\n",
    "\n",
    "same_df = pd.DataFrame(same_tag_list)\n",
    "diff_df = pd.DataFrame(diff_tag_list)\n",
    "\n",
    "file_name = Path(target_file).stem\n",
    "\n",
    "clean_df.sort_values(\"q_id\")\n",
    "same_df.sort_values(\"q_id\")\n",
    "diff_df.sort_values(\"q_id\")\n",
    "\n",
    "clean_df.to_csv(file_name+\"_clean.csv\",index=False)\n",
    "same_df.to_csv(file_name+\"_same.csv\",index=False)\n",
    "diff_df.to_csv(file_name+\"_diff.csv\",index=False)\n",
    "                              "
   ]
  },
  {
   "cell_type": "code",
   "execution_count": null,
   "metadata": {},
   "outputs": [],
   "source": [
    "from collections import Counter\n",
    " \n",
    "print(Counter(same_df['labels']))"
   ]
  },
  {
   "cell_type": "code",
   "execution_count": null,
   "metadata": {},
   "outputs": [],
   "source": [
    "from datasets import load_dataset\n",
    "from glob import glob\n",
    "import pandas as pd\n",
    "from collections import Counter\n",
    "\n",
    "csv_files = glob(\"*_results_*_same.csv\")\n",
    "\n",
    "split_unit = 200\n",
    "test_nums = 100\n",
    "\n",
    "dataset = load_dataset(\"csv\", data_files={'train' : csv_files})\n",
    "dataset.shuffle(42)\n",
    "dataset = dataset['train'].train_test_split(test_size=test_nums)\n",
    "\n",
    "test_dict = dataset['test']\n",
    "test_dataset = pd.DataFrame(test_dict)\n",
    "test_dataset.to_csv(f\"test_{test_nums}_same.csv\", index=False)\n",
    "print(Counter(dataset['train']['labels']))\n",
    "print(Counter(test_dict['labels']))\n",
    "\n",
    "stop = False\n",
    "while(not stop):\n",
    "    train_dict = dataset['train'].sort('labels', reverse=True)[:split_unit]\n",
    "    train_dataset = pd.DataFrame(train_dict)\n",
    "    train_dataset.to_csv(f\"train_{split_unit}_same_bal.csv\", index=False)\n",
    "    split_unit = split_unit * 2\n",
    "    \n",
    "    if split_unit > len(dataset['train']) - test_nums:\n",
    "        stop = True\n",
    "    print(Counter(train_dict[\"labels\"]))\n"
   ]
  },
  {
   "cell_type": "code",
   "execution_count": null,
   "metadata": {},
   "outputs": [],
   "source": []
  },
  {
   "cell_type": "code",
   "execution_count": null,
   "metadata": {},
   "outputs": [],
   "source": []
  },
  {
   "cell_type": "code",
   "execution_count": null,
   "metadata": {},
   "outputs": [],
   "source": []
  },
  {
   "cell_type": "code",
   "execution_count": null,
   "metadata": {},
   "outputs": [],
   "source": []
  },
  {
   "cell_type": "code",
   "execution_count": null,
   "metadata": {},
   "outputs": [],
   "source": []
  },
  {
   "cell_type": "code",
   "execution_count": null,
   "metadata": {},
   "outputs": [],
   "source": []
  },
  {
   "cell_type": "code",
   "execution_count": null,
   "metadata": {},
   "outputs": [],
   "source": []
  }
 ],
 "metadata": {
  "kernelspec": {
   "display_name": "torch2.0",
   "language": "python",
   "name": "python3"
  },
  "language_info": {
   "codemirror_mode": {
    "name": "ipython",
    "version": 3
   },
   "file_extension": ".py",
   "mimetype": "text/x-python",
   "name": "python",
   "nbconvert_exporter": "python",
   "pygments_lexer": "ipython3",
   "version": "3.9.16"
  },
  "orig_nbformat": 4
 },
 "nbformat": 4,
 "nbformat_minor": 2
}
