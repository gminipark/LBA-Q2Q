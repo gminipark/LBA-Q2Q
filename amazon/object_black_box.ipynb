{
 "cells": [
  {
   "cell_type": "code",
   "execution_count": null,
   "metadata": {},
   "outputs": [],
   "source": [
    "import inflect\n",
    "\n",
    "p = inflect.engine()"
   ]
  },
  {
   "cell_type": "code",
   "execution_count": null,
   "metadata": {},
   "outputs": [],
   "source": [
    "p.singular_noun(\"apple\") != \"apple\""
   ]
  },
  {
   "cell_type": "code",
   "execution_count": null,
   "metadata": {},
   "outputs": [],
   "source": [
    "target_object_name = \"bus\"\n",
    "print(p.singular_noun(target_object_name)) "
   ]
  },
  {
   "cell_type": "code",
   "execution_count": null,
   "metadata": {},
   "outputs": [],
   "source": [
    "import cv2\n",
    "import json\n",
    "import pandas as pd\n",
    "import base64\n",
    "\n",
    "scenegraghs = json.load(open(\"./sceneGraphs/train_sceneGraphs.json\"))\n",
    "df = pd.read_csv(\"./intermediate_questions_samples_25000.csv\")\n",
    "\n",
    "example = df.iloc[5]\n",
    "image_id = example[\"image_id\"]\n",
    "question = example[\"ambiguous_question\"]\n",
    "answer = example[\"additional_question\"]\n",
    "image_id = str(example[\"image_id\"])\n",
    "entity_id = str(example[\"entity_id\"])\n",
    "image = cv2.imread(\"./ambiguous_images/\" + image_id + \".jpg\")\n",
    "\n",
    "print(scenegraghs[image_id]['objects'][entity_id])\n",
    "print(scenegraghs[image_id].keys())\n",
    "\n",
    "image_width = scenegraghs[image_id][\"width\"]\n",
    "image_height = scenegraghs[image_id][\"height\"]\n",
    "\n",
    "x = scenegraghs[image_id]['objects'][entity_id]['x']\n",
    "y = scenegraghs[image_id]['objects'][entity_id]['y']\n",
    "w  = scenegraghs[image_id]['objects'][entity_id]['w']\n",
    "h = scenegraghs[image_id]['objects'][entity_id]['h']   \n",
    "\n",
    "target_object_name = scenegraghs[image_id]['objects'][entity_id]['name']\n",
    "\n",
    "image_rectangle = cv2.rectangle(image, (x, y), (x+w, y+h), (0, 255, 0), 2)\n",
    "\n",
    "for object_key, object_value in scenegraghs[image_id]['objects'].items():\n",
    "    if entity_id != str(object_key) and object_value['name'] == target_object_name:\n",
    "        x_ = object_value['x']\n",
    "        y_ = object_value['y']\n",
    "        w_  = object_value['w']\n",
    "        h_ = object_value['h']   \n",
    "        image_rectangle = cv2.rectangle(image_rectangle, (x_, y_), (x_ + w_, y_ + h_), (0, 0, 255), 2)\n",
    "\n",
    "#cv2.imwrite(\"./test2.jpg\", image_rectangle)\n",
    "#cv2.imshow(\"image\", image)\n",
    "ret, frame_buff = cv2.imencode('.jpg', image_rectangle)\n",
    "frame64 = base64.b64encode(image_rectangle).decode()\n",
    "    "
   ]
  }
 ],
 "metadata": {
  "kernelspec": {
   "display_name": "torch2.0",
   "language": "python",
   "name": "python3"
  },
  "language_info": {
   "codemirror_mode": {
    "name": "ipython",
    "version": 3
   },
   "file_extension": ".py",
   "mimetype": "text/x-python",
   "name": "python",
   "nbconvert_exporter": "python",
   "pygments_lexer": "ipython3",
   "version": "3.9.16"
  }
 },
 "nbformat": 4,
 "nbformat_minor": 2
}
