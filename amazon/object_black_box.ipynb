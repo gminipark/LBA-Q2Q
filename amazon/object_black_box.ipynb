{
 "cells": [
  {
   "cell_type": "code",
   "execution_count": 1,
   "metadata": {},
   "outputs": [],
   "source": [
    "import inflect\n",
    "\n",
    "p = inflect.engine()"
   ]
  },
  {
   "cell_type": "code",
   "execution_count": 24,
   "metadata": {},
   "outputs": [
    {
     "data": {
      "text/plain": [
       "True"
      ]
     },
     "execution_count": 24,
     "metadata": {},
     "output_type": "execute_result"
    }
   ],
   "source": [
    "p.singular_noun(\"apple\") != \"apple\""
   ]
  },
  {
   "cell_type": "code",
   "execution_count": 36,
   "metadata": {},
   "outputs": [
    {
     "name": "stdout",
     "output_type": "stream",
     "text": [
      "bu\n"
     ]
    }
   ],
   "source": [
    "target_object_name = \"bus\"\n",
    "print(p.singular_noun(target_object_name)) "
   ]
  },
  {
   "cell_type": "code",
   "execution_count": null,
   "metadata": {},
   "outputs": [
    {
     "ename": "",
     "evalue": "",
     "output_type": "error",
     "traceback": [
      "\u001b[1;31m현재 셀 또는 이전 셀에서 코드를 실행하는 동안 Kernel이 충돌했습니다. 셀의 코드를 검토하여 오류의 가능한 원인을 식별하세요. 자세한 내용을 보려면 <a href='https://aka.ms/vscodeJupyterKernelCrash'> 여기 </a> 를 클릭하세요. 자세한 내용은 Jupyter <a href='command:jupyter.viewOutput'>로그</a>를 참조하세요."
     ]
    }
   ],
   "source": [
    "import cv2\n",
    "import json\n",
    "import pandas as pd\n",
    "\n",
    "scenegraghs = json.load(open(\"./sceneGraphs/train_sceneGraphs.json\"))\n",
    "\n",
    "df = pd.read_csv(\"./intermediate_questions_samples_25000.csv\")\n",
    "\n",
    "example = df.iloc[0]\n",
    "image_id = example[\"image_id\"]\n",
    "question = example[\"ambiguous_question\"]\n",
    "answer = example[\"additional_question\"]\n",
    "image_id = str(example[\"image_id\"])\n",
    "entity_id = str(example[\"entity_id\"])\n",
    "image = cv2.imread(\"./ambiguous_images/\" + image_id + \".jpg\")\n",
    "\n",
    "print(scenegraghs[image_id]['objects'][entity_id])\n",
    "print(scenegraghs[image_id].keys())\n",
    "\n",
    "image_width = scenegraghs[image_id][\"width\"]\n",
    "image_height = scenegraghs[image_id][\"height\"]\n",
    "\n",
    "image_rectangle = cv2.rectangle(image, (0, 0), (image_width, image_height), (0, 255, 0), 2)\n",
    "\n",
    "cv2.imshow(\"image\", image)\n",
    "    "
   ]
  },
  {
   "cell_type": "code",
   "execution_count": null,
   "metadata": {},
   "outputs": [],
   "source": []
  }
 ],
 "metadata": {
  "kernelspec": {
   "display_name": "torch2.0",
   "language": "python",
   "name": "python3"
  },
  "language_info": {
   "codemirror_mode": {
    "name": "ipython",
    "version": 3
   },
   "file_extension": ".py",
   "mimetype": "text/x-python",
   "name": "python",
   "nbconvert_exporter": "python",
   "pygments_lexer": "ipython3",
   "version": "3.9.16"
  }
 },
 "nbformat": 4,
 "nbformat_minor": 2
}
