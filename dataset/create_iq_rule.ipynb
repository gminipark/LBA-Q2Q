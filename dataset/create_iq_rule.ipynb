{
 "cells": [
  {
   "cell_type": "code",
   "execution_count": null,
   "metadata": {},
   "outputs": [],
   "source": [
    "import json\n",
    "from glob import glob\n",
    "from pprint import pprint\n",
    "from tqdm import tqdm\n",
    "import inflect\n",
    "\n",
    "p = inflect.engine()"
   ]
  },
  {
   "cell_type": "code",
   "execution_count": null,
   "metadata": {},
   "outputs": [],
   "source": [
    "with open(\"./ambiguous_questions.json\") as f:\n",
    "    ambiguous_questions = json.load(f)\n",
    "\n",
    "with open(\"./ambiguous_questions_rebuilt.json\") as f:\n",
    "    ambiguous_questions_pr = json.load(f)"
   ]
  },
  {
   "cell_type": "code",
   "execution_count": null,
   "metadata": {},
   "outputs": [],
   "source": [
    "with open(\"./sceneGraphs/train_sceneGraphs.json\") as f:\n",
    "    sceneGraphs = json.load(f)"
   ]
  },
  {
   "cell_type": "code",
   "execution_count": null,
   "metadata": {},
   "outputs": [],
   "source": [
    "def get_same_name_entities(sceneGraph, target_object_id):\n",
    "    \n",
    "    entities = []\n",
    "    \n",
    "    target_object_name = sceneGraph['objects'][target_object_id]['name']\n",
    "    for object_key, object_value in sceneGraph[\"objects\"].items():\n",
    "        if object_key != target_object_id and object_value['name'] == target_object_name:\n",
    "            entities.append((object_key, object_value))\n",
    "            \n",
    "    return entities"
   ]
  },
  {
   "cell_type": "code",
   "execution_count": null,
   "metadata": {},
   "outputs": [],
   "source": [
    "def make_unique_attribute_question(sceneGraph, target_object_id):\n",
    "    \n",
    "    questions = []\n",
    "    \n",
    "    target_object = sceneGraph[\"objects\"][target_object_id]\n",
    "    \n",
    "    same_entities = get_same_name_entities(sceneGraph, target_object_id)\n",
    "    \n",
    "    target_attributes = set(target_object[\"attributes\"])\n",
    "    \n",
    "    question_type = \"attribute\"\n",
    "    \n",
    "    if len(same_entities) == 0:\n",
    "        return questions\n",
    "    \n",
    "    # print(target_attributes)\n",
    "    \n",
    "    for entity_key, entity_value in same_entities:\n",
    "        target_attributes = target_attributes - set(entity_value['attributes'])\n",
    "        \n",
    "    yes_unique_attributes = target_attributes\n",
    "    \n",
    "    # print(target_attributes)\n",
    "    \n",
    "    be_verb = \"Is\" if p.singular_noun(target_object['name']) == False else \"Are\"\n",
    "    \n",
    "    for unique_attribute in yes_unique_attributes:\n",
    "        \n",
    "        intermediate_question = f\"{be_verb} the {target_object['name']} {unique_attribute}?\"\n",
    "        intermediate_answer = \"yes\"\n",
    "\n",
    "        questions.append({'question' : intermediate_question,\n",
    "                          'answer' : intermediate_answer,\n",
    "                          'type': question_type,\n",
    "                          'label' : \"positive\"})\n",
    "    \n",
    "    intersection = None\n",
    "    for entity_key, entity_value in same_entities:\n",
    "        \n",
    "        if intersection is None:\n",
    "            intersection = set(entity_value['attributes'])\n",
    "        else:\n",
    "            intersection = intersection & set(entity_value['attributes'])\n",
    "            \n",
    "    if intersection is not None:\n",
    "        no_unique_attributes = intersection - set(target_object[\"attributes\"])\n",
    "\n",
    "        # print(no_unique_attributes)\n",
    "        \n",
    "        for unique_attribute in no_unique_attributes:\n",
    "            \n",
    "            intermediate_question = f\"{be_verb} the {target_object['name']} {unique_attribute}?\"\n",
    "            intermediate_answer = \"no\"\n",
    "\n",
    "            questions.append({'question' : intermediate_question,\n",
    "                            'answer' : intermediate_answer,\n",
    "                            'type': question_type,\n",
    "                            'label' : \"positive\"})\n",
    "        \n",
    "    return questions"
   ]
  },
  {
   "cell_type": "code",
   "execution_count": null,
   "metadata": {},
   "outputs": [],
   "source": []
  },
  {
   "cell_type": "code",
   "execution_count": null,
   "metadata": {},
   "outputs": [],
   "source": []
  },
  {
   "cell_type": "code",
   "execution_count": null,
   "metadata": {},
   "outputs": [],
   "source": []
  },
  {
   "cell_type": "code",
   "execution_count": null,
   "metadata": {},
   "outputs": [],
   "source": []
  },
  {
   "cell_type": "code",
   "execution_count": null,
   "metadata": {},
   "outputs": [],
   "source": []
  },
  {
   "cell_type": "code",
   "execution_count": null,
   "metadata": {},
   "outputs": [],
   "source": []
  },
  {
   "cell_type": "code",
   "execution_count": null,
   "metadata": {},
   "outputs": [],
   "source": []
  },
  {
   "cell_type": "code",
   "execution_count": null,
   "metadata": {},
   "outputs": [],
   "source": []
  },
  {
   "cell_type": "code",
   "execution_count": null,
   "metadata": {},
   "outputs": [],
   "source": []
  }
 ],
 "metadata": {
  "kernelspec": {
   "display_name": "torch2.0",
   "language": "python",
   "name": "python3"
  },
  "language_info": {
   "codemirror_mode": {
    "name": "ipython",
    "version": 3
   },
   "file_extension": ".py",
   "mimetype": "text/x-python",
   "name": "python",
   "nbconvert_exporter": "python",
   "pygments_lexer": "ipython3",
   "version": "3.9.16"
  },
  "orig_nbformat": 4
 },
 "nbformat": 4,
 "nbformat_minor": 2
}
